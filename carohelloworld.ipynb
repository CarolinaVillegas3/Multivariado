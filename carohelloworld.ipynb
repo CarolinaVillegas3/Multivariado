{
 "cells": [
  {
   "cell_type": "code",
   "execution_count": 1,
   "id": "bfe3c901",
   "metadata": {},
   "outputs": [
    {
     "name": "stdout",
     "output_type": "stream",
     "text": [
      "Hello World\n",
      "Kernel: c:\\Users\\carov\\anaconda3\\envs\\mv-tec\\python.exe\n"
     ]
    }
   ],
   "source": [
    "import sys\n",
    "print(\"Hello World\")\n",
    "print(\"Kernel:\", sys.executable)"
   ]
  },
  {
   "cell_type": "code",
   "execution_count": null,
   "id": "0e11e514",
   "metadata": {},
   "outputs": [],
   "source": []
  }
 ],
 "metadata": {
  "kernelspec": {
   "display_name": "Python (mv-tec)",
   "language": "python",
   "name": "mv-tec"
  },
  "language_info": {
   "codemirror_mode": {
    "name": "ipython",
    "version": 3
   },
   "file_extension": ".py",
   "mimetype": "text/x-python",
   "name": "python",
   "nbconvert_exporter": "python",
   "pygments_lexer": "ipython3",
   "version": "3.12.11"
  }
 },
 "nbformat": 4,
 "nbformat_minor": 5
}
